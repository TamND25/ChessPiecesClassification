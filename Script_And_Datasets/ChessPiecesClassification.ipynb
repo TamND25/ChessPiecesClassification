{
  "nbformat": 4,
  "nbformat_minor": 0,
  "metadata": {
    "colab": {
      "provenance": [],
      "gpuType": "T4"
    },
    "kernelspec": {
      "name": "python3",
      "display_name": "Python 3"
    },
    "language_info": {
      "name": "python"
    },
    "accelerator": "GPU"
  },
  "cells": [
    {
      "cell_type": "markdown",
      "source": [
        "Import all used packages"
      ],
      "metadata": {
        "id": "_KgaNHK-bZ2O"
      }
    },
    {
      "cell_type": "code",
      "execution_count": 1,
      "metadata": {
        "id": "VlHsdn7KaB2u"
      },
      "outputs": [],
      "source": [
        "# For displaying images\n",
        "from IPython.display import Image\n",
        "\n",
        "# For plotting figures\n",
        "import matplotlib.pyplot as plt\n",
        "from matplotlib import gridspec\n",
        "\n",
        "# For array and matrix data structures\n",
        "import numpy as np\n",
        "\n",
        "# For data manipulation and analysis\n",
        "import pandas as pd\n",
        "\n",
        "# For the confusion matrix\n",
        "import seaborn as sns3\n",
        "from sklearn.metrics import confusion_matrix\n",
        "from sklearn.metrics import classification_report\n",
        "from sklearn.metrics import accuracy_score\n",
        "\n",
        "# For computing the neural network and preprocessing\n",
        "import tensorflow as tf\n",
        "from tensorflow import keras\n",
        "from tensorflow.keras import layers,models\n",
        "# from tensorflow.keras.layers.experimental import preprocessing\n",
        "from tensorflow.keras.layers import RandomFlip, RandomContrast, RandomTranslation\n",
        "from tensorflow.keras.preprocessing import image_dataset_from_directory\n",
        "from tensorflow.keras.callbacks import EarlyStopping\n",
        "from keras.applications.vgg16 import VGG16\n",
        "\n",
        "\n",
        "# Set Matplotlib defaults such that plots are bigger and labels are more clear\n",
        "plt.rc('figure', autolayout=True)\n",
        "plt.rc('axes', labelweight='bold', labelsize='large',\n",
        "      titleweight='bold', titlesize=18, titlepad=10)\n",
        "plt.rc('image', cmap='magma')"
      ]
    },
    {
      "cell_type": "markdown",
      "source": [
        "Loading the data"
      ],
      "metadata": {
        "id": "CtK2d1_jbv3M"
      }
    },
    {
      "cell_type": "code",
      "source": [
        "from google.colab import drive\n",
        "drive.mount('/content/drive')"
      ],
      "metadata": {
        "colab": {
          "base_uri": "https://localhost:8080/"
        },
        "id": "vl8J9ZKQWGF7",
        "outputId": "aefeb550-e3ca-4dba-bc59-40a8b65396e9"
      },
      "execution_count": 10,
      "outputs": [
        {
          "output_type": "stream",
          "name": "stdout",
          "text": [
            "Drive already mounted at /content/drive; to attempt to forcibly remount, call drive.mount(\"/content/drive\", force_remount=True).\n"
          ]
        }
      ]
    },
    {
      "cell_type": "code",
      "source": [
        "train_dir = \"/content/drive/MyDrive/clean_cropped_dataset/train\"\n",
        "valid_dir = \"/content/drive/MyDrive/clean_cropped_dataset/validation\"\n",
        "test_dir = \"/content/drive/MyDrive/clean_cropped_dataset/test\"\n",
        "# Load in the training data\n",
        "ds_train = image_dataset_from_directory(\n",
        "    train_dir,\n",
        "    labels='inferred',         # same labels as map labels\n",
        "    label_mode='categorical',  # categorical data\n",
        "    image_size=[224, 224],\n",
        "    interpolation='nearest',   # used for small image size\n",
        "    batch_size=32,\n",
        "    shuffle=True,              # classes are randomized\n",
        ")\n",
        "class_names = ds_train.class_names\n",
        "print(class_names)\n",
        "# Load in the validation data\n",
        "ds_valid = image_dataset_from_directory(\n",
        "    valid_dir,\n",
        "    labels='inferred',         # same labels as map labels\n",
        "    label_mode='categorical',  # categorical data\n",
        "    image_size=[224, 224],\n",
        "    interpolation='nearest',   # used for small image size\n",
        "    batch_size=32,\n",
        "    shuffle=True,              # classes are randomized\n",
        ")\n",
        "\n",
        "# Load in the test data\n",
        "ds_test = image_dataset_from_directory(\n",
        "    test_dir,\n",
        "    labels='inferred',         # same labels as map labels\n",
        "    label_mode='categorical',  # categorical data\n",
        "    image_size=[224, 224],\n",
        "    interpolation='nearest',   # used for small image size\n",
        "    batch_size=32,\n",
        "    shuffle=True,              # classes are randomized\n",
        ")"
      ],
      "metadata": {
        "colab": {
          "base_uri": "https://localhost:8080/"
        },
        "id": "1h8AIU2bbxeV",
        "outputId": "6a2ea7c7-57e2-4ffb-f5f8-3fdcd99938a7"
      },
      "execution_count": 2,
      "outputs": [
        {
          "output_type": "stream",
          "name": "stdout",
          "text": [
            "Found 1897 files belonging to 13 classes.\n",
            "['bb', 'bk', 'bn', 'bp', 'bq', 'br', 'empty', 'wb', 'wk', 'wn', 'wp', 'wq', 'wr']\n",
            "Found 232 files belonging to 13 classes.\n",
            "Found 229 files belonging to 13 classes.\n"
          ]
        }
      ]
    },
    {
      "cell_type": "code",
      "source": [
        "# Converting tf.uint8 to type float to normalize the images\n",
        "def convert_to_float(image, label):\n",
        "    image = tf.image.convert_image_dtype(image, dtype=tf.float32)\n",
        "    return image, label\n",
        "AUTOTUNE = tf.data.experimental.AUTOTUNE\n",
        "\n",
        "# normalize images from the training data\n",
        "ds_train = (\n",
        "    ds_train\n",
        "    .map(convert_to_float)\n",
        "    .cache()\n",
        "    .prefetch(buffer_size=AUTOTUNE)\n",
        ")\n",
        "\n",
        "# normalize images from the validation data\n",
        "ds_valid = (\n",
        "    ds_valid\n",
        "    .map(convert_to_float)\n",
        "    .cache()\n",
        "    .prefetch(buffer_size=AUTOTUNE)\n",
        ")\n",
        "\n",
        "# normalize images from the test data\n",
        "ds_test = (\n",
        "    ds_test\n",
        "    .map(convert_to_float)\n",
        "    .cache()\n",
        "    .prefetch(buffer_size=AUTOTUNE)\n",
        ")"
      ],
      "metadata": {
        "id": "zORaXn3MOD-r"
      },
      "execution_count": 3,
      "outputs": []
    },
    {
      "cell_type": "code",
      "source": [
        "for images, labels in ds_train.take(1):  # Take one batch\n",
        "    first_image = images[0].numpy().astype(\"float32\")  # Convert tensor to numpy\n",
        "    first_label = labels[0]  # Extract the first label\n",
        "    break\n",
        "# Plot the first image\n",
        "plt.imshow(first_image)\n",
        "plt.axis(\"off\")  # Hide axes\n",
        "plt.show()\n",
        "\n",
        "# Print the label (optional)\n",
        "print(\"Label:\", first_label.numpy())"
      ],
      "metadata": {
        "colab": {
          "base_uri": "https://localhost:8080/",
          "height": 504
        },
        "id": "l0k8F39cOMUw",
        "outputId": "5d90b32d-db8c-41d3-dac3-284ed7b251d1"
      },
      "execution_count": 4,
      "outputs": [
        {
          "output_type": "display_data",
          "data": {
            "text/plain": [
              "<Figure size 640x480 with 1 Axes>"
            ],
            "image/png": "[encoded data removed]"
          },
          "metadata": {}
        },
        {
          "output_type": "stream",
          "name": "stdout",
          "text": [
            "Label: [0. 0. 0. 0. 0. 0. 0. 0. 0. 0. 0. 1. 0.]\n"
          ]
        }
      ]
    },
    {
      "cell_type": "code",
      "source": [
        "import tensorflow as tf\n",
        "import numpy as np\n",
        "\n",
        "# Assuming ds_train, ds_valid, and ds_test are defined as in the provided code\n",
        "\n",
        "# Get the shape of the first batch in the training dataset\n",
        "for images, labels in ds_train.take(1):\n",
        "    train_shape = images.shape\n",
        "    break\n",
        "print(\"Training dataset shape (first batch):\", train_shape)\n",
        "\n",
        "# Get the shape of the first batch in the validation dataset\n",
        "for images, labels in ds_valid.take(1):\n",
        "    valid_shape = images.shape\n",
        "    break\n",
        "print(\"Validation dataset shape (first batch):\", valid_shape)\n",
        "\n",
        "# Get the shape of the first batch in the test dataset\n",
        "for images, labels in ds_test.take(1):\n",
        "    test_shape = images.shape\n",
        "    break\n",
        "print(\"Test dataset shape (first batch):\", test_shape)"
      ],
      "metadata": {
        "colab": {
          "base_uri": "https://localhost:8080/"
        },
        "id": "IeevBqG4j9i9",
        "outputId": "581130d5-c5a0-4a8f-a1a6-2ccece421358"
      },
      "execution_count": 5,
      "outputs": [
        {
          "output_type": "stream",
          "name": "stdout",
          "text": [
            "Training dataset shape (first batch): (32, 224, 224, 3)\n",
            "Validation dataset shape (first batch): (32, 224, 224, 3)\n",
            "Test dataset shape (first batch): (32, 224, 224, 3)\n"
          ]
        }
      ]
    },
    {
      "cell_type": "code",
      "source": [
        "model = models.Sequential(\n",
        "    [\n",
        "        RandomContrast(factor=0.5), # lighter/darker colors\n",
        "        RandomFlip(mode='horizontal'), # left-to-right\n",
        "        RandomTranslation(height_factor=0.1, width_factor=0.1) # height decreased\n",
        "    ]\n",
        ")\n",
        "model.add(layers.Conv2D(32, (7, 7), activation='relu', input_shape=(224, 224, 3),padding='same')) # 218 * 218 * 32\n",
        "model.add(layers.MaxPooling2D((2, 2))) # 109 * 109 * 32\n",
        "model.add(layers.Conv2D(64, (3, 3), activation='relu',padding='same')) # 107 * 107 * 64\n",
        "model.add(layers.MaxPooling2D((2, 2))) # 54 * 54 * 64\n",
        "model.add(layers.Conv2D(64, (3, 3), activation='relu',padding='same')) # 52 * 52 * 64\n",
        "model.add(layers.Flatten())\n",
        "model.add(layers.Dense(64, activation='relu'))\n",
        "model.add(layers.Dense(13, activation='softmax'))"
      ],
      "metadata": {
        "id": "blTKwLJIPdhV",
        "colab": {
          "base_uri": "https://localhost:8080/"
        },
        "outputId": "aacee32f-9de7-474c-e75a-8b3dcd4174ee"
      },
      "execution_count": 6,
      "outputs": [
        {
          "output_type": "stream",
          "name": "stderr",
          "text": [
            "/usr/local/lib/python3.11/dist-packages/keras/src/layers/convolutional/base_conv.py:107: UserWarning: Do not pass an `input_shape`/`input_dim` argument to a layer. When using Sequential models, prefer using an `Input(shape)` object as the first layer in the model instead.\n",
            "  super().__init__(activity_regularizer=activity_regularizer, **kwargs)\n"
          ]
        }
      ]
    },
    {
      "cell_type": "code",
      "source": [
        "model.summary()"
      ],
      "metadata": {
        "colab": {
          "base_uri": "https://localhost:8080/",
          "height": 497
        },
        "id": "8abRukSvaUwk",
        "outputId": "ace2f3a4-8155-49ab-9f48-62994524593c"
      },
      "execution_count": 6,
      "outputs": [
        {
          "output_type": "display_data",
          "data": {
            "text/plain": [
              "\u001b[1mModel: \"sequential\"\u001b[0m\n"
            ],
            "text/html": [
              "<pre style=\"white-space:pre;overflow-x:auto;line-height:normal;font-family:Menlo,'DejaVu Sans Mono',consolas,'Courier New',monospace\"><span style=\"font-weight: bold\">Model: \"sequential\"</span>\n",
              "</pre>\n"
            ]
          },
          "metadata": {}
        },
        {
          "output_type": "display_data",
          "data": {
            "text/plain": [
              "┏━━━━━━━━━━━━━━━━━━━━━━━━━━━━━━━━━━━━━━┳━━━━━━━━━━━━━━━━━━━━━━━━━━━━━┳━━━━━━━━━━━━━━━━━┓\n",
              "┃\u001b[1m \u001b[0m\u001b[1mLayer (type)                        \u001b[0m\u001b[1m \u001b[0m┃\u001b[1m \u001b[0m\u001b[1mOutput Shape               \u001b[0m\u001b[1m \u001b[0m┃\u001b[1m \u001b[0m\u001b[1m        Param #\u001b[0m\u001b[1m \u001b[0m┃\n",
              "┡━━━━━━━━━━━━━━━━━━━━━━━━━━━━━━━━━━━━━━╇━━━━━━━━━━━━━━━━━━━━━━━━━━━━━╇━━━━━━━━━━━━━━━━━┩\n",
              "│ random_contrast (\u001b[38;5;33mRandomContrast\u001b[0m)     │ ?                           │     \u001b[38;5;34m0\u001b[0m (unbuilt) │\n",
              "├──────────────────────────────────────┼─────────────────────────────┼─────────────────┤\n",
              "│ random_flip (\u001b[38;5;33mRandomFlip\u001b[0m)             │ ?                           │     \u001b[38;5;34m0\u001b[0m (unbuilt) │\n",
              "├──────────────────────────────────────┼─────────────────────────────┼─────────────────┤\n",
              "│ random_translation                   │ ?                           │     \u001b[38;5;34m0\u001b[0m (unbuilt) │\n",
              "│ (\u001b[38;5;33mRandomTranslation\u001b[0m)                  │                             │                 │\n",
              "├──────────────────────────────────────┼─────────────────────────────┼─────────────────┤\n",
              "│ conv2d (\u001b[38;5;33mConv2D\u001b[0m)                      │ ?                           │     \u001b[38;5;34m0\u001b[0m (unbuilt) │\n",
              "├──────────────────────────────────────┼─────────────────────────────┼─────────────────┤\n",
              "│ max_pooling2d (\u001b[38;5;33mMaxPooling2D\u001b[0m)         │ ?                           │               \u001b[38;5;34m0\u001b[0m │\n",
              "├──────────────────────────────────────┼─────────────────────────────┼─────────────────┤\n",
              "│ conv2d_1 (\u001b[38;5;33mConv2D\u001b[0m)                    │ ?                           │     \u001b[38;5;34m0\u001b[0m (unbuilt) │\n",
              "├──────────────────────────────────────┼─────────────────────────────┼─────────────────┤\n",
              "│ max_pooling2d_1 (\u001b[38;5;33mMaxPooling2D\u001b[0m)       │ ?                           │               \u001b[38;5;34m0\u001b[0m │\n",
              "├──────────────────────────────────────┼─────────────────────────────┼─────────────────┤\n",
              "│ conv2d_2 (\u001b[38;5;33mConv2D\u001b[0m)                    │ ?                           │     \u001b[38;5;34m0\u001b[0m (unbuilt) │\n",
              "├──────────────────────────────────────┼─────────────────────────────┼─────────────────┤\n",
              "│ flatten (\u001b[38;5;33mFlatten\u001b[0m)                    │ ?                           │     \u001b[38;5;34m0\u001b[0m (unbuilt) │\n",
              "├──────────────────────────────────────┼─────────────────────────────┼─────────────────┤\n",
              "│ dense (\u001b[38;5;33mDense\u001b[0m)                        │ ?                           │     \u001b[38;5;34m0\u001b[0m (unbuilt) │\n",
              "├──────────────────────────────────────┼─────────────────────────────┼─────────────────┤\n",
              "│ dense_1 (\u001b[38;5;33mDense\u001b[0m)                      │ ?                           │     \u001b[38;5;34m0\u001b[0m (unbuilt) │\n",
              "└──────────────────────────────────────┴─────────────────────────────┴─────────────────┘\n"
            ],
            "text/html": [
              "<pre style=\"white-space:pre;overflow-x:auto;line-height:normal;font-family:Menlo,'DejaVu Sans Mono',consolas,'Courier New',monospace\">┏━━━━━━━━━━━━━━━━━━━━━━━━━━━━━━━━━━━━━━┳━━━━━━━━━━━━━━━━━━━━━━━━━━━━━┳━━━━━━━━━━━━━━━━━┓\n",
              "┃<span style=\"font-weight: bold\"> Layer (type)                         </span>┃<span style=\"font-weight: bold\"> Output Shape                </span>┃<span style=\"font-weight: bold\">         Param # </span>┃\n",
              "┡━━━━━━━━━━━━━━━━━━━━━━━━━━━━━━━━━━━━━━╇━━━━━━━━━━━━━━━━━━━━━━━━━━━━━╇━━━━━━━━━━━━━━━━━┩\n",
              "│ random_contrast (<span style=\"color: #0087ff; text-decoration-color: #0087ff\">RandomContrast</span>)     │ ?                           │     <span style=\"color: #00af00; text-decoration-color: #00af00\">0</span> (unbuilt) │\n",
              "├──────────────────────────────────────┼─────────────────────────────┼─────────────────┤\n",
              "│ random_flip (<span style=\"color: #0087ff; text-decoration-color: #0087ff\">RandomFlip</span>)             │ ?                           │     <span style=\"color: #00af00; text-decoration-color: #00af00\">0</span> (unbuilt) │\n",
              "├──────────────────────────────────────┼─────────────────────────────┼─────────────────┤\n",
              "│ random_translation                   │ ?                           │     <span style=\"color: #00af00; text-decoration-color: #00af00\">0</span> (unbuilt) │\n",
              "│ (<span style=\"color: #0087ff; text-decoration-color: #0087ff\">RandomTranslation</span>)                  │                             │                 │\n",
              "├──────────────────────────────────────┼─────────────────────────────┼─────────────────┤\n",
              "│ conv2d (<span style=\"color: #0087ff; text-decoration-color: #0087ff\">Conv2D</span>)                      │ ?                           │     <span style=\"color: #00af00; text-decoration-color: #00af00\">0</span> (unbuilt) │\n",
              "├──────────────────────────────────────┼─────────────────────────────┼─────────────────┤\n",
              "│ max_pooling2d (<span style=\"color: #0087ff; text-decoration-color: #0087ff\">MaxPooling2D</span>)         │ ?                           │               <span style=\"color: #00af00; text-decoration-color: #00af00\">0</span> │\n",
              "├──────────────────────────────────────┼─────────────────────────────┼─────────────────┤\n",
              "│ conv2d_1 (<span style=\"color: #0087ff; text-decoration-color: #0087ff\">Conv2D</span>)                    │ ?                           │     <span style=\"color: #00af00; text-decoration-color: #00af00\">0</span> (unbuilt) │\n",
              "├──────────────────────────────────────┼─────────────────────────────┼─────────────────┤\n",
              "│ max_pooling2d_1 (<span style=\"color: #0087ff; text-decoration-color: #0087ff\">MaxPooling2D</span>)       │ ?                           │               <span style=\"color: #00af00; text-decoration-color: #00af00\">0</span> │\n",
              "├──────────────────────────────────────┼─────────────────────────────┼─────────────────┤\n",
              "│ conv2d_2 (<span style=\"color: #0087ff; text-decoration-color: #0087ff\">Conv2D</span>)                    │ ?                           │     <span style=\"color: #00af00; text-decoration-color: #00af00\">0</span> (unbuilt) │\n",
              "├──────────────────────────────────────┼─────────────────────────────┼─────────────────┤\n",
              "│ flatten (<span style=\"color: #0087ff; text-decoration-color: #0087ff\">Flatten</span>)                    │ ?                           │     <span style=\"color: #00af00; text-decoration-color: #00af00\">0</span> (unbuilt) │\n",
              "├──────────────────────────────────────┼─────────────────────────────┼─────────────────┤\n",
              "│ dense (<span style=\"color: #0087ff; text-decoration-color: #0087ff\">Dense</span>)                        │ ?                           │     <span style=\"color: #00af00; text-decoration-color: #00af00\">0</span> (unbuilt) │\n",
              "├──────────────────────────────────────┼─────────────────────────────┼─────────────────┤\n",
              "│ dense_1 (<span style=\"color: #0087ff; text-decoration-color: #0087ff\">Dense</span>)                      │ ?                           │     <span style=\"color: #00af00; text-decoration-color: #00af00\">0</span> (unbuilt) │\n",
              "└──────────────────────────────────────┴─────────────────────────────┴─────────────────┘\n",
              "</pre>\n"
            ]
          },
          "metadata": {}
        },
        {
          "output_type": "display_data",
          "data": {
            "text/plain": [
              "\u001b[1m Total params: \u001b[0m\u001b[38;5;34m0\u001b[0m (0.00 B)\n"
            ],
            "text/html": [
              "<pre style=\"white-space:pre;overflow-x:auto;line-height:normal;font-family:Menlo,'DejaVu Sans Mono',consolas,'Courier New',monospace\"><span style=\"font-weight: bold\"> Total params: </span><span style=\"color: #00af00; text-decoration-color: #00af00\">0</span> (0.00 B)\n",
              "</pre>\n"
            ]
          },
          "metadata": {}
        },
        {
          "output_type": "display_data",
          "data": {
            "text/plain": [
              "\u001b[1m Trainable params: \u001b[0m\u001b[38;5;34m0\u001b[0m (0.00 B)\n"
            ],
            "text/html": [
              "<pre style=\"white-space:pre;overflow-x:auto;line-height:normal;font-family:Menlo,'DejaVu Sans Mono',consolas,'Courier New',monospace\"><span style=\"font-weight: bold\"> Trainable params: </span><span style=\"color: #00af00; text-decoration-color: #00af00\">0</span> (0.00 B)\n",
              "</pre>\n"
            ]
          },
          "metadata": {}
        },
        {
          "output_type": "display_data",
          "data": {
            "text/plain": [
              "\u001b[1m Non-trainable params: \u001b[0m\u001b[38;5;34m0\u001b[0m (0.00 B)\n"
            ],
            "text/html": [
              "<pre style=\"white-space:pre;overflow-x:auto;line-height:normal;font-family:Menlo,'DejaVu Sans Mono',consolas,'Courier New',monospace\"><span style=\"font-weight: bold\"> Non-trainable params: </span><span style=\"color: #00af00; text-decoration-color: #00af00\">0</span> (0.00 B)\n",
              "</pre>\n"
            ]
          },
          "metadata": {}
        }
      ]
    },
    {
      "cell_type": "code",
      "source": [
        "model.compile(optimizer='adam',\n",
        "              loss=tf.keras.losses.CategoricalCrossentropy(),\n",
        "              metrics=['accuracy'])\n",
        "\n"
      ],
      "metadata": {
        "id": "_ZfA0fUBab8f"
      },
      "execution_count": 7,
      "outputs": []
    },
    {
      "cell_type": "code",
      "source": [
        "history = model.fit(ds_train, epochs=60,\n",
        "                    validation_data=ds_valid)"
      ],
      "metadata": {
        "colab": {
          "base_uri": "https://localhost:8080/"
        },
        "id": "J-8OkdQLaqeZ",
        "outputId": "8338fe7d-a83b-4921-aa4e-d8d42a943b1e"
      },
      "execution_count": null,
      "outputs": [
        {
          "output_type": "stream",
          "name": "stdout",
          "text": [
            "Epoch 1/60\n",
            "\u001b[1m60/60\u001b[0m \u001b[32m━━━━━━━━━━━━━━━━━━━━\u001b[0m\u001b[37m\u001b[0m \u001b[1m288s\u001b[0m 5s/step - accuracy: 0.1074 - loss: 3.6002 - val_accuracy: 0.2026 - val_loss: 2.2364\n",
            "Epoch 2/60\n",
            "\u001b[1m60/60\u001b[0m \u001b[32m━━━━━━━━━━━━━━━━━━━━\u001b[0m\u001b[37m\u001b[0m \u001b[1m4s\u001b[0m 64ms/step - accuracy: 0.2030 - loss: 2.1263 - val_accuracy: 0.1422 - val_loss: 2.2109\n",
            "Epoch 3/60\n",
            "\u001b[1m60/60\u001b[0m \u001b[32m━━━━━━━━━━━━━━━━━━━━\u001b[0m\u001b[37m\u001b[0m \u001b[1m4s\u001b[0m 66ms/step - accuracy: 0.2015 - loss: 1.9843 - val_accuracy: 0.2198 - val_loss: 1.9508\n",
            "Epoch 4/60\n",
            "\u001b[1m60/60\u001b[0m \u001b[32m━━━━━━━━━━━━━━━━━━━━\u001b[0m\u001b[37m\u001b[0m \u001b[1m5s\u001b[0m 64ms/step - accuracy: 0.2377 - loss: 1.8812 - val_accuracy: 0.2371 - val_loss: 1.9102\n",
            "Epoch 5/60\n",
            "\u001b[1m60/60\u001b[0m \u001b[32m━━━━━━━━━━━━━━━━━━━━\u001b[0m\u001b[37m\u001b[0m \u001b[1m5s\u001b[0m 65ms/step - accuracy: 0.2771 - loss: 1.8492 - val_accuracy: 0.2198 - val_loss: 1.8952\n",
            "Epoch 6/60\n",
            "\u001b[1m60/60\u001b[0m \u001b[32m━━━━━━━━━━━━━━━━━━━━\u001b[0m\u001b[37m\u001b[0m \u001b[1m4s\u001b[0m 67ms/step - accuracy: 0.2956 - loss: 1.8127 - val_accuracy: 0.2845 - val_loss: 1.8514\n",
            "Epoch 7/60\n",
            "\u001b[1m60/60\u001b[0m \u001b[32m━━━━━━━━━━━━━━━━━━━━\u001b[0m\u001b[37m\u001b[0m \u001b[1m4s\u001b[0m 65ms/step - accuracy: 0.2701 - loss: 1.8034 - val_accuracy: 0.2802 - val_loss: 1.8579\n",
            "Epoch 8/60\n",
            "\u001b[1m60/60\u001b[0m \u001b[32m━━━━━━━━━━━━━━━━━━━━\u001b[0m\u001b[37m\u001b[0m \u001b[1m4s\u001b[0m 65ms/step - accuracy: 0.2958 - loss: 1.7702 - val_accuracy: 0.2888 - val_loss: 1.8665\n",
            "Epoch 9/60\n",
            "\u001b[1m60/60\u001b[0m \u001b[32m━━━━━━━━━━━━━━━━━━━━\u001b[0m\u001b[37m\u001b[0m \u001b[1m4s\u001b[0m 67ms/step - accuracy: 0.3079 - loss: 1.7439 - val_accuracy: 0.3103 - val_loss: 1.7966\n",
            "Epoch 10/60\n",
            "\u001b[1m60/60\u001b[0m \u001b[32m━━━━━━━━━━━━━━━━━━━━\u001b[0m\u001b[37m\u001b[0m \u001b[1m4s\u001b[0m 65ms/step - accuracy: 0.3158 - loss: 1.7310 - val_accuracy: 0.3190 - val_loss: 1.8058\n",
            "Epoch 11/60\n",
            "\u001b[1m60/60\u001b[0m \u001b[32m━━━━━━━━━━━━━━━━━━━━\u001b[0m\u001b[37m\u001b[0m \u001b[1m4s\u001b[0m 65ms/step - accuracy: 0.3169 - loss: 1.7067 - val_accuracy: 0.2802 - val_loss: 1.7978\n",
            "Epoch 12/60\n",
            "\u001b[1m60/60\u001b[0m \u001b[32m━━━━━━━━━━━━━━━━━━━━\u001b[0m\u001b[37m\u001b[0m \u001b[1m5s\u001b[0m 68ms/step - accuracy: 0.3207 - loss: 1.6902 - val_accuracy: 0.3190 - val_loss: 1.7765\n",
            "Epoch 13/60\n",
            "\u001b[1m60/60\u001b[0m \u001b[32m━━━━━━━━━━━━━━━━━━━━\u001b[0m\u001b[37m\u001b[0m \u001b[1m4s\u001b[0m 64ms/step - accuracy: 0.3528 - loss: 1.6517 - val_accuracy: 0.3103 - val_loss: 1.7445\n",
            "Epoch 14/60\n",
            "\u001b[1m60/60\u001b[0m \u001b[32m━━━━━━━━━━━━━━━━━━━━\u001b[0m\u001b[37m\u001b[0m \u001b[1m4s\u001b[0m 64ms/step - accuracy: 0.3565 - loss: 1.6589 - val_accuracy: 0.3060 - val_loss: 1.8226\n",
            "Epoch 15/60\n",
            "\u001b[1m60/60\u001b[0m \u001b[32m━━━━━━━━━━━━━━━━━━━━\u001b[0m\u001b[37m\u001b[0m \u001b[1m4s\u001b[0m 64ms/step - accuracy: 0.3381 - loss: 1.6668 - val_accuracy: 0.2888 - val_loss: 1.8013\n",
            "Epoch 16/60\n",
            "\u001b[1m60/60\u001b[0m \u001b[32m━━━━━━━━━━━━━━━━━━━━\u001b[0m\u001b[37m\u001b[0m \u001b[1m4s\u001b[0m 66ms/step - accuracy: 0.3457 - loss: 1.6268 - val_accuracy: 0.3060 - val_loss: 1.7572\n",
            "Epoch 17/60\n",
            "\u001b[1m60/60\u001b[0m \u001b[32m━━━━━━━━━━━━━━━━━━━━\u001b[0m\u001b[37m\u001b[0m \u001b[1m5s\u001b[0m 63ms/step - accuracy: 0.3838 - loss: 1.5956 - val_accuracy: 0.3319 - val_loss: 1.7005\n",
            "Epoch 18/60\n",
            "\u001b[1m60/60\u001b[0m \u001b[32m━━━━━━━━━━━━━━━━━━━━\u001b[0m\u001b[37m\u001b[0m \u001b[1m4s\u001b[0m 64ms/step - accuracy: 0.3654 - loss: 1.5748 - val_accuracy: 0.3319 - val_loss: 1.7363\n",
            "Epoch 19/60\n",
            "\u001b[1m60/60\u001b[0m \u001b[32m━━━━━━━━━━━━━━━━━━━━\u001b[0m\u001b[37m\u001b[0m \u001b[1m4s\u001b[0m 66ms/step - accuracy: 0.3902 - loss: 1.5683 - val_accuracy: 0.3276 - val_loss: 1.7194\n",
            "Epoch 20/60\n",
            "\u001b[1m60/60\u001b[0m \u001b[32m━━━━━━━━━━━━━━━━━━━━\u001b[0m\u001b[37m\u001b[0m \u001b[1m4s\u001b[0m 64ms/step - accuracy: 0.3849 - loss: 1.5683 - val_accuracy: 0.3534 - val_loss: 1.7208\n",
            "Epoch 21/60\n",
            "\u001b[1m60/60\u001b[0m \u001b[32m━━━━━━━━━━━━━━━━━━━━\u001b[0m\u001b[37m\u001b[0m \u001b[1m4s\u001b[0m 64ms/step - accuracy: 0.4151 - loss: 1.5051 - val_accuracy: 0.3836 - val_loss: 1.6176\n",
            "Epoch 22/60\n",
            "\u001b[1m60/60\u001b[0m \u001b[32m━━━━━━━━━━━━━━━━━━━━\u001b[0m\u001b[37m\u001b[0m \u001b[1m4s\u001b[0m 66ms/step - accuracy: 0.4060 - loss: 1.5147 - val_accuracy: 0.3922 - val_loss: 1.6331\n",
            "Epoch 23/60\n",
            "\u001b[1m60/60\u001b[0m \u001b[32m━━━━━━━━━━━━━━━━━━━━\u001b[0m\u001b[37m\u001b[0m \u001b[1m5s\u001b[0m 64ms/step - accuracy: 0.4209 - loss: 1.5012 - val_accuracy: 0.3879 - val_loss: 1.6272\n",
            "Epoch 24/60\n",
            "\u001b[1m60/60\u001b[0m \u001b[32m━━━━━━━━━━━━━━━━━━━━\u001b[0m\u001b[37m\u001b[0m \u001b[1m4s\u001b[0m 64ms/step - accuracy: 0.4615 - loss: 1.4126 - val_accuracy: 0.3621 - val_loss: 1.6644\n",
            "Epoch 25/60\n",
            "\u001b[1m60/60\u001b[0m \u001b[32m━━━━━━━━━━━━━━━━━━━━\u001b[0m\u001b[37m\u001b[0m \u001b[1m4s\u001b[0m 66ms/step - accuracy: 0.4309 - loss: 1.4208 - val_accuracy: 0.3707 - val_loss: 1.6617\n",
            "Epoch 26/60\n",
            "\u001b[1m60/60\u001b[0m \u001b[32m━━━━━━━━━━━━━━━━━━━━\u001b[0m\u001b[37m\u001b[0m \u001b[1m4s\u001b[0m 65ms/step - accuracy: 0.4495 - loss: 1.3947 - val_accuracy: 0.3491 - val_loss: 1.6461\n",
            "Epoch 27/60\n",
            "\u001b[1m60/60\u001b[0m \u001b[32m━━━━━━━━━━━━━━━━━━━━\u001b[0m\u001b[37m\u001b[0m \u001b[1m4s\u001b[0m 64ms/step - accuracy: 0.4432 - loss: 1.4176 - val_accuracy: 0.3362 - val_loss: 1.7389\n",
            "Epoch 28/60\n",
            "\u001b[1m60/60\u001b[0m \u001b[32m━━━━━━━━━━━━━━━━━━━━\u001b[0m\u001b[37m\u001b[0m \u001b[1m4s\u001b[0m 65ms/step - accuracy: 0.4282 - loss: 1.4808 - val_accuracy: 0.3491 - val_loss: 1.6613\n",
            "Epoch 29/60\n",
            "\u001b[1m60/60\u001b[0m \u001b[32m━━━━━━━━━━━━━━━━━━━━\u001b[0m\u001b[37m\u001b[0m \u001b[1m4s\u001b[0m 66ms/step - accuracy: 0.4572 - loss: 1.4083 - val_accuracy: 0.3362 - val_loss: 1.7403\n",
            "Epoch 30/60\n",
            "\u001b[1m60/60\u001b[0m \u001b[32m━━━━━━━━━━━━━━━━━━━━\u001b[0m\u001b[37m\u001b[0m \u001b[1m4s\u001b[0m 64ms/step - accuracy: 0.4551 - loss: 1.4154 - val_accuracy: 0.3448 - val_loss: 1.6859\n",
            "Epoch 31/60\n",
            "\u001b[1m60/60\u001b[0m \u001b[32m━━━━━━━━━━━━━━━━━━━━\u001b[0m\u001b[37m\u001b[0m \u001b[1m4s\u001b[0m 64ms/step - accuracy: 0.4523 - loss: 1.4229 - val_accuracy: 0.4095 - val_loss: 1.5915\n",
            "Epoch 32/60\n",
            "\u001b[1m60/60\u001b[0m \u001b[32m━━━━━━━━━━━━━━━━━━━━\u001b[0m\u001b[37m\u001b[0m \u001b[1m4s\u001b[0m 67ms/step - accuracy: 0.4689 - loss: 1.3583 - val_accuracy: 0.3836 - val_loss: 1.6048\n",
            "Epoch 33/60\n",
            "\u001b[1m60/60\u001b[0m \u001b[32m━━━━━━━━━━━━━━━━━━━━\u001b[0m\u001b[37m\u001b[0m \u001b[1m4s\u001b[0m 64ms/step - accuracy: 0.4832 - loss: 1.3707 - val_accuracy: 0.3966 - val_loss: 1.5458\n",
            "Epoch 34/60\n",
            "\u001b[1m60/60\u001b[0m \u001b[32m━━━━━━━━━━━━━━━━━━━━\u001b[0m\u001b[37m\u001b[0m \u001b[1m4s\u001b[0m 64ms/step - accuracy: 0.4950 - loss: 1.3264 - val_accuracy: 0.3793 - val_loss: 1.6038\n",
            "Epoch 35/60\n",
            "\u001b[1m60/60\u001b[0m \u001b[32m━━━━━━━━━━━━━━━━━━━━\u001b[0m\u001b[37m\u001b[0m \u001b[1m4s\u001b[0m 65ms/step - accuracy: 0.4925 - loss: 1.3510 - val_accuracy: 0.4138 - val_loss: 1.5326\n",
            "Epoch 36/60\n",
            "\u001b[1m60/60\u001b[0m \u001b[32m━━━━━━━━━━━━━━━━━━━━\u001b[0m\u001b[37m\u001b[0m \u001b[1m5s\u001b[0m 64ms/step - accuracy: 0.5058 - loss: 1.2838 - val_accuracy: 0.4655 - val_loss: 1.5300\n",
            "Epoch 37/60\n",
            "\u001b[1m60/60\u001b[0m \u001b[32m━━━━━━━━━━━━━━━━━━━━\u001b[0m\u001b[37m\u001b[0m \u001b[1m4s\u001b[0m 64ms/step - accuracy: 0.4715 - loss: 1.3380 - val_accuracy: 0.3922 - val_loss: 1.5692\n",
            "Epoch 38/60\n",
            "\u001b[1m60/60\u001b[0m \u001b[32m━━━━━━━━━━━━━━━━━━━━\u001b[0m\u001b[37m\u001b[0m \u001b[1m4s\u001b[0m 65ms/step - accuracy: 0.5069 - loss: 1.2811 - val_accuracy: 0.3879 - val_loss: 1.5620\n",
            "Epoch 39/60\n",
            "\u001b[1m60/60\u001b[0m \u001b[32m━━━━━━━━━━━━━━━━━━━━\u001b[0m\u001b[37m\u001b[0m \u001b[1m5s\u001b[0m 64ms/step - accuracy: 0.5093 - loss: 1.2753 - val_accuracy: 0.4224 - val_loss: 1.5345\n",
            "Epoch 40/60\n",
            "\u001b[1m60/60\u001b[0m \u001b[32m━━━━━━━━━━━━━━━━━━━━\u001b[0m\u001b[37m\u001b[0m \u001b[1m5s\u001b[0m 64ms/step - accuracy: 0.5227 - loss: 1.2676 - val_accuracy: 0.4440 - val_loss: 1.4985\n",
            "Epoch 41/60\n",
            "\u001b[1m60/60\u001b[0m \u001b[32m━━━━━━━━━━━━━━━━━━━━\u001b[0m\u001b[37m\u001b[0m \u001b[1m4s\u001b[0m 66ms/step - accuracy: 0.4995 - loss: 1.3096 - val_accuracy: 0.4698 - val_loss: 1.4771\n",
            "Epoch 42/60\n",
            "\u001b[1m60/60\u001b[0m \u001b[32m━━━━━━━━━━━━━━━━━━━━\u001b[0m\u001b[37m\u001b[0m \u001b[1m5s\u001b[0m 64ms/step - accuracy: 0.5316 - loss: 1.2391 - val_accuracy: 0.4052 - val_loss: 1.5507\n",
            "Epoch 43/60\n",
            "\u001b[1m60/60\u001b[0m \u001b[32m━━━━━━━━━━━━━━━━━━━━\u001b[0m\u001b[37m\u001b[0m \u001b[1m4s\u001b[0m 64ms/step - accuracy: 0.5304 - loss: 1.2281 - val_accuracy: 0.4655 - val_loss: 1.4638\n",
            "Epoch 44/60\n",
            "\u001b[1m60/60\u001b[0m \u001b[32m━━━━━━━━━━━━━━━━━━━━\u001b[0m\u001b[37m\u001b[0m \u001b[1m4s\u001b[0m 66ms/step - accuracy: 0.5135 - loss: 1.2449 - val_accuracy: 0.4784 - val_loss: 1.4380\n",
            "Epoch 45/60\n",
            "\u001b[1m60/60\u001b[0m \u001b[32m━━━━━━━━━━━━━━━━━━━━\u001b[0m\u001b[37m\u001b[0m \u001b[1m4s\u001b[0m 65ms/step - accuracy: 0.5499 - loss: 1.2207 - val_accuracy: 0.4957 - val_loss: 1.3893\n",
            "Epoch 46/60\n",
            "\u001b[1m60/60\u001b[0m \u001b[32m━━━━━━━━━━━━━━━━━━━━\u001b[0m\u001b[37m\u001b[0m \u001b[1m4s\u001b[0m 64ms/step - accuracy: 0.5349 - loss: 1.2010 - val_accuracy: 0.4741 - val_loss: 1.4213\n",
            "Epoch 47/60\n",
            "\u001b[1m60/60\u001b[0m \u001b[32m━━━━━━━━━━━━━━━━━━━━\u001b[0m\u001b[37m\u001b[0m \u001b[1m4s\u001b[0m 65ms/step - accuracy: 0.5416 - loss: 1.1849 - val_accuracy: 0.4483 - val_loss: 1.4825\n",
            "Epoch 48/60\n",
            "\u001b[1m60/60\u001b[0m \u001b[32m━━━━━━━━━━━━━━━━━━━━\u001b[0m\u001b[37m\u001b[0m \u001b[1m4s\u001b[0m 66ms/step - accuracy: 0.5785 - loss: 1.1392 - val_accuracy: 0.4483 - val_loss: 1.4408\n",
            "Epoch 49/60\n",
            "\u001b[1m60/60\u001b[0m \u001b[32m━━━━━━━━━━━━━━━━━━━━\u001b[0m\u001b[37m\u001b[0m \u001b[1m5s\u001b[0m 64ms/step - accuracy: 0.5493 - loss: 1.1771 - val_accuracy: 0.4440 - val_loss: 1.4196\n",
            "Epoch 50/60\n",
            "\u001b[1m60/60\u001b[0m \u001b[32m━━━━━━━━━━━━━━━━━━━━\u001b[0m\u001b[37m\u001b[0m \u001b[1m4s\u001b[0m 65ms/step - accuracy: 0.5522 - loss: 1.1872 - val_accuracy: 0.4698 - val_loss: 1.4024\n",
            "Epoch 51/60\n",
            "\u001b[1m60/60\u001b[0m \u001b[32m━━━━━━━━━━━━━━━━━━━━\u001b[0m\u001b[37m\u001b[0m \u001b[1m4s\u001b[0m 66ms/step - accuracy: 0.5627 - loss: 1.1321 - val_accuracy: 0.4397 - val_loss: 1.4270\n",
            "Epoch 52/60\n",
            "\u001b[1m60/60\u001b[0m \u001b[32m━━━━━━━━━━━━━━━━━━━━\u001b[0m\u001b[37m\u001b[0m \u001b[1m4s\u001b[0m 64ms/step - accuracy: 0.5699 - loss: 1.1263 - val_accuracy: 0.4397 - val_loss: 1.4414\n",
            "Epoch 53/60\n",
            "\u001b[1m60/60\u001b[0m \u001b[32m━━━━━━━━━━━━━━━━━━━━\u001b[0m\u001b[37m\u001b[0m \u001b[1m4s\u001b[0m 64ms/step - accuracy: 0.5694 - loss: 1.1288 - val_accuracy: 0.4440 - val_loss: 1.4579\n",
            "Epoch 54/60\n",
            "\u001b[1m60/60\u001b[0m \u001b[32m━━━━━━━━━━━━━━━━━━━━\u001b[0m\u001b[37m\u001b[0m \u001b[1m4s\u001b[0m 67ms/step - accuracy: 0.5519 - loss: 1.1776 - val_accuracy: 0.4957 - val_loss: 1.3587\n",
            "Epoch 55/60\n",
            "\u001b[1m60/60\u001b[0m \u001b[32m━━━━━━━━━━━━━━━━━━━━\u001b[0m\u001b[37m\u001b[0m \u001b[1m4s\u001b[0m 64ms/step - accuracy: 0.5803 - loss: 1.0997 - val_accuracy: 0.4741 - val_loss: 1.3615\n",
            "Epoch 56/60\n",
            "\u001b[1m60/60\u001b[0m \u001b[32m━━━━━━━━━━━━━━━━━━━━\u001b[0m\u001b[37m\u001b[0m \u001b[1m5s\u001b[0m 64ms/step - accuracy: 0.5962 - loss: 1.0586 - val_accuracy: 0.5216 - val_loss: 1.2933\n",
            "Epoch 57/60\n",
            "\u001b[1m60/60\u001b[0m \u001b[32m━━━━━━━━━━━━━━━━━━━━\u001b[0m\u001b[37m\u001b[0m \u001b[1m5s\u001b[0m 66ms/step - accuracy: 0.5974 - loss: 1.0784 - val_accuracy: 0.4655 - val_loss: 1.3686\n",
            "Epoch 58/60\n",
            "\u001b[1m60/60\u001b[0m \u001b[32m━━━━━━━━━━━━━━━━━━━━\u001b[0m\u001b[37m\u001b[0m \u001b[1m5s\u001b[0m 64ms/step - accuracy: 0.6050 - loss: 1.0541 - val_accuracy: 0.5129 - val_loss: 1.3213\n",
            "Epoch 59/60\n",
            "\u001b[1m60/60\u001b[0m \u001b[32m━━━━━━━━━━━━━━━━━━━━\u001b[0m\u001b[37m\u001b[0m \u001b[1m4s\u001b[0m 64ms/step - accuracy: 0.6096 - loss: 1.0632 - val_accuracy: 0.5129 - val_loss: 1.3192\n",
            "Epoch 60/60\n",
            "\u001b[1m60/60\u001b[0m \u001b[32m━━━━━━━━━━━━━━━━━━━━\u001b[0m\u001b[37m\u001b[0m \u001b[1m4s\u001b[0m 66ms/step - accuracy: 0.6149 - loss: 1.0436 - val_accuracy: 0.5474 - val_loss: 1.2562\n"
          ]
        }
      ]
    },
    {
      "cell_type": "code",
      "source": [
        "import matplotlib.pyplot as plt\n",
        "import numpy as np\n",
        "import seaborn as sns\n",
        "from sklearn.metrics import confusion_matrix, classification_report, accuracy_score\n",
        "\n",
        "# --- Evaluation on Test Set ---\n",
        "test_loss, test_accuracy = model.evaluate(ds_test, verbose=1)\n",
        "print(f\"Test Loss: {test_loss:.4f}, Test Accuracy: {test_accuracy:.4f}\")\n",
        "\n",
        "# --- Predictions for Confusion Matrix and Classification Report ---\n",
        "# Get predictions on the test dataset\n",
        "predicted_probabilities = model.predict(ds_test)\n",
        "predicted_labels = np.argmax(predicted_probabilities, axis=1) # Get class indices from probabilities\n",
        "\n",
        "# Get true labels from the test dataset\n",
        "all_true_labels = []\n",
        "for images, labels in ds_test: # Corrected loop to unpack images and labels\n",
        "    all_true_labels.extend(np.argmax(labels.numpy(), axis=1)) # Assuming labels are one-hot encoded\n",
        "all_true_labels = np.array(all_true_labels)\n",
        "\n",
        "# --- Confusion Matrix ---\n",
        "conf_matrix = confusion_matrix(all_true_labels, predicted_labels)\n",
        "\n",
        "plt.figure(figsize=(10, 8))\n",
        "sns.heatmap(conf_matrix, annot=True, fmt='d', cmap='Greens',\n",
        "            xticklabels=class_names, yticklabels=class_names) # Use class_names here (defined from ds_train)\n",
        "plt.xlabel('Predicted Labels')\n",
        "plt.ylabel('True Labels')\n",
        "plt.title('Confusion Matrix')\n",
        "plt.show()\n",
        "\n",
        "# --- Classification Report ---\n",
        "class_report = classification_report(all_true_labels, predicted_labels, target_names=class_names) # Use class_names here (defined from ds_train)\n",
        "print(\"\\nClassification Report:\")\n",
        "print(class_report)\n",
        "\n",
        "# --- Overall Accuracy ---\n",
        "overall_accuracy = accuracy_score(all_true_labels, predicted_labels)\n",
        "print(f\"Overall Accuracy: {overall_accuracy:.4f}\")"
      ],
      "metadata": {
        "colab": {
          "base_uri": "https://localhost:8080/",
          "height": 1000
        },
        "id": "ECw7G94IjTUw",
        "outputId": "abfe5622-ac5b-4ca5-a2fb-7ae6d0cc665d"
      },
      "execution_count": null,
      "outputs": [
        {
          "output_type": "stream",
          "name": "stdout",
          "text": [
            "\u001b[1m8/8\u001b[0m \u001b[32m━━━━━━━━━━━━━━━━━━━━\u001b[0m\u001b[37m\u001b[0m \u001b[1m30s\u001b[0m 4s/step - accuracy: 0.5817 - loss: 1.1446\n",
            "Test Loss: 1.2032, Test Accuracy: 0.5677\n",
            "\u001b[1m8/8\u001b[0m \u001b[32m━━━━━━━━━━━━━━━━━━━━\u001b[0m\u001b[37m\u001b[0m \u001b[1m0s\u001b[0m 33ms/step\n"
          ]
        },
        {
          "output_type": "display_data",
          "data": {
            "text/plain": [
              "<Figure size 1000x800 with 2 Axes>"
            ],
            "image/png": "[encoded data removed]"
          },
          "metadata": {}
        },
        {
          "output_type": "stream",
          "name": "stdout",
          "text": [
            "\n",
            "Classification Report:\n",
            "              precision    recall  f1-score   support\n",
            "\n",
            "          bb       0.64      0.70      0.67        20\n",
            "          bk       0.57      0.40      0.47        10\n",
            "          bn       0.88      0.41      0.56        17\n",
            "          bp       0.72      0.95      0.82        19\n",
            "          bq       0.58      0.69      0.63        16\n",
            "          br       0.59      0.59      0.59        17\n",
            "       empty       0.90      0.90      0.90        21\n",
            "          wb       0.24      0.29      0.26        21\n",
            "          wk       0.60      0.30      0.40        10\n",
            "          wn       0.36      0.45      0.40        20\n",
            "          wp       0.65      0.58      0.61        19\n",
            "          wq       0.60      0.67      0.63        18\n",
            "          wr       0.33      0.29      0.31        21\n",
            "\n",
            "    accuracy                           0.57       229\n",
            "   macro avg       0.59      0.55      0.56       229\n",
            "weighted avg       0.58      0.57      0.56       229\n",
            "\n",
            "Overall Accuracy: 0.5677\n"
          ]
        }
      ]
    },
    {
      "cell_type": "code",
      "source": [
        "# prompt: save model to file\n",
        "\n",
        "model.save('saved_model.h5')\n"
      ],
      "metadata": {
        "colab": {
          "base_uri": "https://localhost:8080/"
        },
        "id": "TH_xK8RtkxYQ",
        "outputId": "042d670e-bb44-4130-d4a5-3ba21f030e01"
      },
      "execution_count": 10,
      "outputs": [
        {
          "output_type": "stream",
          "name": "stderr",
          "text": [
            "WARNING:absl:You are saving your model as an HDF5 file via `model.save()` or `keras.saving.save_model(model)`. This file format is considered legacy. We recommend using instead the native Keras format, e.g. `model.save('my_model.keras')` or `keras.saving.save_model(model, 'my_model.keras')`. \n"
          ]
        }
      ]
    },
    {
      "cell_type": "code",
      "source": [
        "from tensorflow import keras\n",
        "import matplotlib.pyplot as plt\n",
        "import numpy as np\n",
        "from sklearn.metrics import classification_report, confusion_matrix, accuracy_score\n",
        "import seaborn as sns  # Import seaborn for visualization\n",
        "import tensorflow as tf  # Import tensorflow\n",
        "import cv2  # Import OpenCV\n",
        "\n",
        "\n",
        "# Load the saved model\n",
        "try:\n",
        "    model = keras.models.load_model('/content/saved_model.h5')\n",
        "    print(\"Model loaded successfully!\")\n",
        "except OSError as e:\n",
        "    print(f\"Error: The model file '/content/saved_model.h5' could not be opened. It might be corrupted or not a valid H5 file. Check the file and its integrity.  Error details: {e}\")\n",
        "    exit()  # Exit the script if the model can't be loaded\n",
        "except FileNotFoundError:\n",
        "    print(f\"Error: The model file '/content/saved_model.h5' was not found.  Make sure the file exists at that path.\")\n",
        "    exit()  # Exit if the model can't be loaded\n",
        "except Exception as e:\n",
        "    print(f\"An unexpected error occurred while loading the model: {e}\")\n",
        "    exit()  # Exit the script if the model can't be loaded\n",
        "\n",
        "# Make predictions on a single test image\n",
        "try:\n",
        "    test_image_path = '/content/drive/MyDrive/clean_cropped_dataset/test/bb/alpha_data_image10304.jpeg'\n",
        "\n",
        "    # Load and preprocess the image using OpenCV (or PIL, if you prefer)\n",
        "    img = cv2.imread(test_image_path)\n",
        "    if img is None:\n",
        "        raise ValueError(f\"Could not read image at {test_image_path}\")\n",
        "\n",
        "    img = cv2.cvtColor(img, cv2.COLOR_BGR2RGB)  # Convert to RGB\n",
        "\n",
        "    # Resize the image to match the input size of your model (VERY IMPORTANT!)\n",
        "    img = cv2.resize(img, (224, 224))  # Assuming your model expects 224x224 images - MODIFY AS NEEDED\n",
        "\n",
        "    # Convert the image to a numpy array and normalize\n",
        "    img_array = tf.keras.utils.img_to_array(img)\n",
        "    img_array = img_array / 255.0  # Normalize pixel values to [0, 1] - MODIFY AS NEEDED\n",
        "\n",
        "    # Add a batch dimension (models expect a batch of images)\n",
        "    img_array = np.expand_dims(img_array, axis=0)\n",
        "\n",
        "    # Make a prediction\n",
        "    y_pred = model.predict(img_array)\n",
        "    predicted_class = np.argmax(y_pred, axis=1)\n",
        "\n",
        "    print(\"Predicted class index:\", predicted_class[0]) # print the class index\n",
        "\n",
        "    # If you have class names, you can map the index to the name\n",
        "    class_names = ['bb', 'bk', 'bn', 'bp', 'bq', 'br', 'empty', 'wb', 'wk', 'wn', 'wp', 'wq', 'wr']\n",
        "    print(\"Predicted class:\", class_names[predicted_class[0]])\n",
        "\n",
        "except Exception as e:\n",
        "    print(f\"Error during prediction: {e}\")\n",
        "    exit()"
      ],
      "metadata": {
        "colab": {
          "base_uri": "https://localhost:8080/"
        },
        "id": "AkYYXpvxmrkJ",
        "outputId": "7340c38a-c440-4f97-ee5d-f47871c7ef60"
      },
      "execution_count": 2,
      "outputs": [
        {
          "output_type": "stream",
          "name": "stderr",
          "text": [
            "WARNING:absl:Compiled the loaded model, but the compiled metrics have yet to be built. `model.compile_metrics` will be empty until you train or evaluate the model.\n"
          ]
        },
        {
          "output_type": "stream",
          "name": "stdout",
          "text": [
            "Model loaded successfully!\n",
            "\u001b[1m1/1\u001b[0m \u001b[32m━━━━━━━━━━━━━━━━━━━━\u001b[0m\u001b[37m\u001b[0m \u001b[1m0s\u001b[0m 160ms/step\n",
            "Predicted class index: 0\n",
            "Predicted class: bb\n"
          ]
        }
      ]
    }
  ]
}